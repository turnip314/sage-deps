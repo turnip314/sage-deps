{
 "cells": [
  {
   "cell_type": "code",
   "execution_count": 9,
   "id": "1c9303d3-1cfc-4447-baa0-fc07a936c398",
   "metadata": {},
   "outputs": [],
   "source": [
    "from sage_deps import *\n",
    "import networkx as nx\n",
    "from pyvis.network import Network"
   ]
  },
  {
   "cell_type": "code",
   "execution_count": 10,
   "id": "5fe97131-b4c0-478e-a240-61e70fc7385b",
   "metadata": {},
   "outputs": [],
   "source": [
    "Loader.initialize()"
   ]
  },
  {
   "cell_type": "code",
   "execution_count": 11,
   "id": "ccca8353-32ca-4134-9881-5876451f7c27",
   "metadata": {},
   "outputs": [
    {
     "name": "stdout",
     "output_type": "stream",
     "text": [
      "Number of modules: 92\n"
     ]
    }
   ],
   "source": [
    "G = create_module_digraph(depth=2, path='sage.rings.',relations=[1,2,3])"
   ]
  },
  {
   "cell_type": "code",
   "execution_count": 12,
   "id": "0e7d038d-70ac-46d7-bb12-5522d5fa148f",
   "metadata": {},
   "outputs": [
    {
     "name": "stdout",
     "output_type": "stream",
     "text": [
      "Warning: When  cdn_resources is 'local' jupyter notebook has issues displaying graphics on chrome/safari. Use cdn_resources='in_line' or cdn_resources='remote' if you have issues viewing graphics in a notebook.\n",
      "ex.html\n"
     ]
    },
    {
     "data": {
      "text/html": [
       "\n",
       "        <iframe\n",
       "            width=\"800\"\n",
       "            height=\"800\"\n",
       "            src=\"ex.html\"\n",
       "            frameborder=\"0\"\n",
       "            allowfullscreen\n",
       "            \n",
       "        ></iframe>\n",
       "        "
      ],
      "text/plain": [
       "<IPython.lib.display.IFrame at 0x105c20f50>"
      ]
     },
     "execution_count": 12,
     "metadata": {},
     "output_type": "execute_result"
    }
   ],
   "source": [
    "g = Network(width=800, height=800, notebook=True, directed=True)\n",
    "g.show_buttons()\n",
    "#g.barnes_hut()\n",
    "g.from_nx(G)\n",
    "g.show(name=\"ex.html\")"
   ]
  },
  {
   "cell_type": "code",
   "execution_count": null,
   "id": "1148eac3-d507-4972-b9a9-c3a5cee1f89b",
   "metadata": {},
   "outputs": [],
   "source": []
  },
  {
   "cell_type": "code",
   "execution_count": null,
   "id": "f45893fa-5831-4c7f-9e7e-f1a4aa460c2f",
   "metadata": {},
   "outputs": [],
   "source": []
  }
 ],
 "metadata": {
  "kernelspec": {
   "display_name": "Python 3 (ipykernel)",
   "language": "python",
   "name": "python3"
  },
  "language_info": {
   "codemirror_mode": {
    "name": "ipython",
    "version": 3
   },
   "file_extension": ".py",
   "mimetype": "text/x-python",
   "name": "python",
   "nbconvert_exporter": "python",
   "pygments_lexer": "ipython3",
   "version": "3.13.3"
  }
 },
 "nbformat": 4,
 "nbformat_minor": 5
}
